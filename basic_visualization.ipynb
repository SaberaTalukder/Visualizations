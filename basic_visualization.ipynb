{
 "cells": [
  {
   "cell_type": "code",
   "execution_count": 68,
   "metadata": {},
   "outputs": [],
   "source": [
    "import numpy as np\n",
    "import seaborn as sns"
   ]
  },
  {
   "cell_type": "code",
   "execution_count": 2,
   "metadata": {},
   "outputs": [],
   "source": [
    "data_txt_path = \"/Users/saberatalukder/Documents/Classes/Winter19-20/CS155/CS155_PROJECT2/data/data.txt\"\n",
    "movies_txt_path = \"/Users/saberatalukder/Documents/Classes/Winter19-20/CS155/CS155_PROJECT2/data/movies.txt\""
   ]
  },
  {
   "cell_type": "markdown",
   "metadata": {},
   "source": [
    "# Part 1"
   ]
  },
  {
   "cell_type": "code",
   "execution_count": 3,
   "metadata": {},
   "outputs": [],
   "source": [
    "#Get all of the ratings from the data\n",
    "all_ratings = []\n",
    "data_file = open(data_txt_path,\"r\") \n",
    "\n",
    "for data_row in data_file:\n",
    "    all_ratings.append(int(data_row.split()[-1]))"
   ]
  },
  {
   "cell_type": "code",
   "execution_count": 4,
   "metadata": {},
   "outputs": [],
   "source": [
    "all_ratings = np.asarray(all_ratings)"
   ]
  },
  {
   "cell_type": "code",
   "execution_count": 33,
   "metadata": {},
   "outputs": [
    {
     "data": {
      "image/png": "[encoded data removed]",
      "text/plain": [
       "<Figure size 540x360 with 1 Axes>"
      ]
     },
     "metadata": {
      "needs_background": "light"
     },
     "output_type": "display_data"
    }
   ],
   "source": [
    "f, axs = plt.subplots(1,1,figsize=(7.5,5))\n",
    "_ = sns.distplot(all_ratings, kde=False, bins=np.arange(0.5,6.5), rug=True)\n",
    "_ = plt.xticks([1,2,3,4,5])\n",
    "_ = plt.title('All Ratings in the MovieLens Dataset', fontsize=16)\n",
    "_ = plt.xlabel('Ratings', fontsize=16)\n",
    "_ = plt.ylabel('Number of Ratings', fontsize=16)"
   ]
  },
  {
   "cell_type": "markdown",
   "metadata": {},
   "source": [
    "# Create a Dictionary"
   ]
  },
  {
   "cell_type": "code",
   "execution_count": 52,
   "metadata": {},
   "outputs": [],
   "source": [
    "movie_ids_and_all_ratings = {}\n",
    "data_file = open(data_txt_path,\"r\") \n",
    "\n",
    "count = 0\n",
    "for data_row in data_file:\n",
    "    movie_id = (int(data_row.split()[1]))\n",
    "    rating = (int(data_row.split()[-1]))\n",
    "    \n",
    "    if movie_id in movie_ids_and_all_ratings:\n",
    "        movie_ids_and_all_ratings[movie_id].append(rating) \n",
    "    else:\n",
    "        movie_ids_and_all_ratings[movie_id] = [rating]"
   ]
  },
  {
   "cell_type": "code",
   "execution_count": 57,
   "metadata": {},
   "outputs": [],
   "source": [
    "movie_ids_and_num_ratings = {}\n",
    "movie_ids_and_avg_ratings = {}\n",
    "for key, value in movie_ids_and_all_ratings.items():\n",
    "    # populating the num ratings dictionary\n",
    "    movie_ids_and_num_ratings[key] = [len(value)]\n",
    "    \n",
    "    # populating the avg ratings dictionary\n",
    "    movie_ids_and_avg_ratings[key] = [np.mean(value)]"
   ]
  },
  {
   "cell_type": "markdown",
   "metadata": {},
   "source": [
    "# Part 2"
   ]
  },
  {
   "cell_type": "code",
   "execution_count": 66,
   "metadata": {},
   "outputs": [
    {
     "ename": "NameError",
     "evalue": "name 'collections' is not defined",
     "output_type": "error",
     "traceback": [
      "\u001b[0;31m--------------------------------------------------------------------------\u001b[0m",
      "\u001b[0;31mNameError\u001b[0m                                Traceback (most recent call last)",
      "\u001b[0;32m<ipython-input-66-e68b3f7f61b4>\u001b[0m in \u001b[0;36m<module>\u001b[0;34m\u001b[0m\n\u001b[0;32m----> 1\u001b[0;31m \u001b[0msorted_movie_ids_and_num_ratings\u001b[0m \u001b[0;34m=\u001b[0m \u001b[0mcollections\u001b[0m\u001b[0;34m.\u001b[0m\u001b[0mCounter\u001b[0m\u001b[0;34m(\u001b[0m\u001b[0mmovie_ids_and_num_ratings\u001b[0m\u001b[0;34m)\u001b[0m\u001b[0;34m\u001b[0m\u001b[0;34m\u001b[0m\u001b[0m\n\u001b[0m\u001b[1;32m      2\u001b[0m \u001b[0msorted_movie_ids_and_num_ratings\u001b[0m\u001b[0;34m.\u001b[0m\u001b[0mmost_common\u001b[0m\u001b[0;34m(\u001b[0m\u001b[0;34m)\u001b[0m\u001b[0;34m\u001b[0m\u001b[0;34m\u001b[0m\u001b[0m\n\u001b[1;32m      3\u001b[0m \u001b[0;32mfor\u001b[0m \u001b[0mk\u001b[0m\u001b[0;34m,\u001b[0m \u001b[0mv\u001b[0m \u001b[0;32min\u001b[0m \u001b[0msorted_movie_ids_and_num_ratings\u001b[0m\u001b[0;34m.\u001b[0m\u001b[0mmost_common\u001b[0m\u001b[0;34m(\u001b[0m\u001b[0;34m)\u001b[0m\u001b[0;34m(\u001b[0m\u001b[0;36m10\u001b[0m\u001b[0;34m)\u001b[0m\u001b[0;34m:\u001b[0m\u001b[0;34m\u001b[0m\u001b[0;34m\u001b[0m\u001b[0m\n\u001b[1;32m      4\u001b[0m     \u001b[0mprint\u001b[0m \u001b[0;34m(\u001b[0m\u001b[0mk\u001b[0m\u001b[0;34m,\u001b[0m \u001b[0mv\u001b[0m\u001b[0;34m)\u001b[0m\u001b[0;34m\u001b[0m\u001b[0;34m\u001b[0m\u001b[0m\n",
      "\u001b[0;31mNameError\u001b[0m: name 'collections' is not defined"
     ]
    }
   ],
   "source": [
    "sorted_movie_ids_and_num_ratings = collections.Counter(movie_ids_and_num_ratings)\n",
    "sorted_movie_ids_and_num_ratings.most_common()\n",
    "for k, v in sorted_movie_ids_and_num_ratings.most_common()(10):\n",
    "    print (k, v)"
   ]
  },
  {
   "cell_type": "code",
   "execution_count": null,
   "metadata": {},
   "outputs": [],
   "source": []
  }
 ],
 "metadata": {
  "kernelspec": {
   "display_name": "Python 3",
   "language": "python",
   "name": "python3"
  },
  "language_info": {
   "codemirror_mode": {
    "name": "ipython",
    "version": 3
   },
   "file_extension": ".py",
   "mimetype": "text/x-python",
   "name": "python",
   "nbconvert_exporter": "python",
   "pygments_lexer": "ipython3",
   "version": "3.7.3"
  }
 },
 "nbformat": 4,
 "nbformat_minor": 4
}
