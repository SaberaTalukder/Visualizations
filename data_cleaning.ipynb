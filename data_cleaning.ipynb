{
 "cells": [
  {
   "cell_type": "code",
   "execution_count": 1,
   "metadata": {},
   "outputs": [],
   "source": [
    "import numpy as np\n",
    "import matplotlib.pyplot as plt"
   ]
  },
  {
   "cell_type": "code",
   "execution_count": 66,
   "metadata": {},
   "outputs": [
    {
     "name": "stdout",
     "output_type": "stream",
     "text": [
      "268\n",
      "246\n",
      "Chasing Amy (1997)\n",
      "303\n",
      "297\n",
      "Ulee's Gold (1997)\n",
      "348\n",
      "329\n",
      "Desperate Measures (1998)\n",
      "500\n",
      "304\n",
      "Fly Away Home (1996)\n",
      "670\n",
      "573\n",
      "Body Snatchers (1993)\n",
      "680\n",
      "266\n",
      "Kull the Conqueror (1997)\n",
      "865\n",
      "305\n",
      "Ice Storm, The (1997)\n",
      "881\n",
      "876\n",
      "Money Talks (1997)\n",
      "1003\n",
      "878\n",
      "That Darn Cat! (1997)\n",
      "1257\n",
      "1256\n",
      "Designated Mourner, The (1997)\n",
      "1606\n",
      "309\n",
      "Deceiver (1997)\n",
      "1607\n",
      "1395\n",
      "Hurricane Streets (1998)\n",
      "1617\n",
      "1175\n",
      "Hugo Pool (1997)\n",
      "1625\n",
      "1477\n",
      "Nightwatch (1997)\n",
      "1650\n",
      "1645\n",
      "Butcher Boy, The (1998)\n",
      "1654\n",
      "1234\n",
      "Chairman of the Board (1998)\n",
      "1658\n",
      "711\n",
      "Substance of Fire, The (1996)\n",
      "1680\n",
      "1429\n",
      "Sliding Doors (1998)\n"
     ]
    }
   ],
   "source": [
    "import csv\n",
    "id2name = {}\n",
    "name2id = {}\n",
    "with open('./data/movies.txt', 'r') as csvfile:\n",
    "    spamreader = csv.reader(csvfile, delimiter='\\t')\n",
    "    for row in spamreader:\n",
    "        movie_id = int(row[0])\n",
    "        movie_name = row[1]\n",
    "        if movie_name not in name2id:\n",
    "            name2id[movie_name] = movie_id\n",
    "            id2name[movie_id] = movie_name\n",
    "        else:\n",
    "            id2name[movie_id] = movie_name\n",
    "#             print(movie_id)\n",
    "#             print(name2id[movie_name])\n",
    "#             print(movie_name)"
   ]
  },
  {
   "cell_type": "code",
   "execution_count": 62,
   "metadata": {},
   "outputs": [],
   "source": [
    "data = np.loadtxt('./data/data.txt').astype(int)\n",
    "\n",
    "for d in data:\n",
    "    movie_id1 = d[1]\n",
    "    movie_name = id2name[movie_id1]\n",
    "    movie_id2 = name2id[movie_name]\n",
    "    d[1] = movie_id2\n",
    "    \n",
    "np.savetxt(\"./data/data2.txt\", data)"
   ]
  },
  {
   "cell_type": "code",
   "execution_count": 46,
   "metadata": {},
   "outputs": [],
   "source": [
    "data2 = np.loadtxt('./data/data2.txt').astype(int)"
   ]
  },
  {
   "cell_type": "code",
   "execution_count": 67,
   "metadata": {},
   "outputs": [
    {
     "name": "stdout",
     "output_type": "stream",
     "text": [
      "1664\n",
      "1682\n"
     ]
    }
   ],
   "source": [
    "print(len(name2id))\n",
    "print(len(id2name))"
   ]
  },
  {
   "cell_type": "code",
   "execution_count": 73,
   "metadata": {},
   "outputs": [],
   "source": [
    "Y_train = np.loadtxt('./data/train.txt').astype(int)\n",
    "\n",
    "for d in Y_train:\n",
    "    movie_id1 = d[1]\n",
    "    movie_name = id2name[movie_id1]\n",
    "    movie_id2 = name2id[movie_name]\n",
    "    d[1] = movie_id2\n",
    "    \n",
    "np.savetxt(\"./data/train2.txt\", Y_train)"
   ]
  },
  {
   "cell_type": "code",
   "execution_count": 74,
   "metadata": {},
   "outputs": [],
   "source": [
    "Y_test = np.loadtxt('./data/test.txt').astype(int)\n",
    "\n",
    "for d in Y_test:\n",
    "    movie_id1 = d[1]\n",
    "    movie_name = id2name[movie_id1]\n",
    "    movie_id2 = name2id[movie_name]\n",
    "    d[1] = movie_id2\n",
    "    \n",
    "np.savetxt(\"./data/test2.txt\", Y_test)"
   ]
  },
  {
   "cell_type": "code",
   "execution_count": null,
   "metadata": {},
   "outputs": [],
   "source": []
  }
 ],
 "metadata": {
  "kernelspec": {
   "display_name": "Python 3",
   "language": "python",
   "name": "python3"
  },
  "language_info": {
   "codemirror_mode": {
    "name": "ipython",
    "version": 3
   },
   "file_extension": ".py",
   "mimetype": "text/x-python",
   "name": "python",
   "nbconvert_exporter": "python",
   "pygments_lexer": "ipython3",
   "version": "3.7.2"
  }
 },
 "nbformat": 4,
 "nbformat_minor": 2
}
