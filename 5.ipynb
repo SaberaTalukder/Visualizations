{
 "cells": [
  {
   "cell_type": "code",
   "execution_count": 218,
   "metadata": {},
   "outputs": [],
   "source": [
    "import importlib\n",
    "import numpy as np\n",
    "import pandas as pd\n",
    "import matplotlib.pyplot as plt\n",
    "import seaborn as sns\n",
    "import surprise\n",
    "\n",
    "import hw5_version\n",
    "import surprise_version\n",
    "importlib.reload(hw5_version)\n",
    "importlib.reload(surprise_version)\n",
    "\n",
    "%config InlineBackend.figure_format = 'retina'\n"
   ]
  },
  {
   "cell_type": "code",
   "execution_count": 219,
   "metadata": {},
   "outputs": [],
   "source": [
    "def visualize_V(U, V, labels=None, index=None, name='temp', save=False, title=None):\n",
    "    A, s, B = np.linalg.svd(V.T)\n",
    "    U_proj = A[:,0:2].T@U.T\n",
    "    V_proj = A[:,0:2].T@V.T\n",
    "    plt.figure()\n",
    "    if index is None:\n",
    "        plot = sns.scatterplot(V_proj[0,:],V_proj[1,:])\n",
    "    else : \n",
    "        plot = sns.scatterplot(V_proj[0,index-1],V_proj[1,index-1])\n",
    "        \n",
    "    limits = plt.ylim()\n",
    "    offset = (limits[1]-limits[0])*0.01\n",
    "    if not (labels is None):\n",
    "        for i, label in enumerate(labels):\n",
    "            plot.text(V_proj[0,index[i]-1],V_proj[1,index[i]-1]+offset, label)\n",
    "            \n",
    "    plt.title(title)\n",
    "    if save:\n",
    "        fig = plot.get_figure()\n",
    "        fig.savefig(f'{name}.png')\n",
    "        fig.savefig(f'{name}.pdf')\n",
    "    \n",
    "        \n",
    "#     plt.scatter(V_proj[0,:],V_proj[1,:])"
   ]
  },
  {
   "cell_type": "code",
   "execution_count": 220,
   "metadata": {},
   "outputs": [],
   "source": [
    "def multi_vis(U, V, name='temp',save=True):\n",
    "#     movies = np.genfromtxt('./data/movies.txt', dtype=None,delimiter='\\t')\n",
    "    df = pd.read_csv('./data/movies.txt',sep='\\t',header=None)\n",
    "#     print(df.head())\n",
    "    movies = df[1]\n",
    "    \n",
    "    # Ten Movies of our choice\n",
    "    choice = np.arange(1,11)\n",
    "    visualize_V(U,V,index=choice,name=f'{name}_choice',labels=movies[choice-1],save=save,title=f'Arbitrarily Chosen Movies with {name}')\n",
    "    \n",
    "    # Ten Most Popular\n",
    "    popular = np.array([50, 258, 100, 181, 294, 286, 288, 1, 300, 121])\n",
    "    visualize_V(U,V,index=popular,name=f'{name}_popular',labels=movies[popular-1],save=save,title=f'Most Popular Movies with {name}')\n",
    "    \n",
    "    # Ten Best\n",
    "    best = np.array([1189, 1500, 814, 1536, 1293, 1599, 1653, 1467, 1122, 1201])\n",
    "    visualize_V(U,V,index=best,name=f'{name}_best',labels=movies[best-1],save=save,title=f'\\'Best\\' Movies with {name}')\n",
    "    \n",
    "    # Ten from each of three genres\n",
    "    animation = np.array([1, 71, 95, 99, 101, 102, 103, 114, 169, 189])\n",
    "    documentaries = np.array([32, 48, 75, 115, 119, 320, 360, 634, 644, 645])\n",
    "    sci_fi = np.array([7, 38, 39, 50, 62, 82, 84, 89, 96, 101])\n",
    "    # Genre 1\n",
    "    visualize_V(U,V,index=animation,name=f'{name}_animation',labels=movies[animation-1],save=save,title=f'Animation Movies with {name}')\n",
    "    # Genre 2\n",
    "    visualize_V(U,V,index=documentaries,name=f'{name}_documentary',labels=movies[documentaries-1],save=save,title=f'Documentary Movies with {name}')\n",
    "    # Genre 3\n",
    "    visualize_V(U,V,index=sci_fi,name=f'{name}_scifi',labels=movies[sci_fi-1],save=save,title=f'SciFi Movies with {name}')"
   ]
  },
  {
   "cell_type": "code",
   "execution_count": 221,
   "metadata": {},
   "outputs": [],
   "source": [
    "Y_train = np.loadtxt('./data/train.txt').astype(int)\n",
    "Y_test = np.loadtxt('./data/test.txt').astype(int)\n",
    "\n",
    "M = max(max(Y_train[:,0]), max(Y_test[:,0])).astype(int) # users\n",
    "N = max(max(Y_train[:,1]), max(Y_test[:,1])).astype(int) # movies\n",
    "\n",
    "\n",
    "K = 20\n",
    "eta = 0.03\n",
    "reg = 0\n",
    "reg = 0.1\n"
   ]
  },
  {
   "cell_type": "markdown",
   "metadata": {},
   "source": [
    "# Using the Homework 5 version of SVD "
   ]
  },
  {
   "cell_type": "code",
   "execution_count": null,
   "metadata": {},
   "outputs": [],
   "source": [
    "U,V, e_in_base = hw5_version.train_model(M, N, K, eta, reg, Y_train)"
   ]
  },
  {
   "cell_type": "code",
   "execution_count": null,
   "metadata": {},
   "outputs": [],
   "source": [
    "visualize_V(U,V)"
   ]
  },
  {
   "cell_type": "code",
   "execution_count": null,
   "metadata": {},
   "outputs": [],
   "source": [
    "print(e_in_base)\n",
    "e_out_base = hw5_version.get_err(U,V,Y_test)\n",
    "print(hw5_version.get_err(U,V,Y_test))"
   ]
  },
  {
   "cell_type": "markdown",
   "metadata": {},
   "source": [
    "# Using the implementation with the additional bias terms"
   ]
  },
  {
   "cell_type": "code",
   "execution_count": null,
   "metadata": {},
   "outputs": [],
   "source": [
    "import hw5bias_version_g2\n",
    "importlib.reload(hw5bias_version_g2)\n",
    "\n",
    "U_bias, V_bias, a_bias, b_bias, mu_bias, e_in_bias = hw5bias_version_g2.train_model(M, N, K, eta, reg, Y_train)"
   ]
  },
  {
   "cell_type": "code",
   "execution_count": null,
   "metadata": {},
   "outputs": [],
   "source": [
    "print(e_in_bias)\n",
    "e_out_bias = hw5_version.get_err(U_bias,V_bias, a_bias, b_bias, mu_bias, Y_test)\n",
    "print(hw5_version.get_err(U,V,Y_test))"
   ]
  },
  {
   "cell_type": "code",
   "execution_count": null,
   "metadata": {},
   "outputs": [],
   "source": [
    "visualize_V(U_bias,V_bias)"
   ]
  },
  {
   "cell_type": "markdown",
   "metadata": {},
   "source": [
    "# Using the off the shelf implementation of SVD."
   ]
  },
  {
   "cell_type": "code",
   "execution_count": null,
   "metadata": {},
   "outputs": [],
   "source": [
    "model,  e_in_sur = surprise_version.train_model(M, N, K, eta, reg, Y_train)"
   ]
  },
  {
   "cell_type": "code",
   "execution_count": null,
   "metadata": {},
   "outputs": [],
   "source": [
    "visualize_V(model.pu,model.qi)"
   ]
  },
  {
   "cell_type": "code",
   "execution_count": null,
   "metadata": {},
   "outputs": [],
   "source": [
    "print(e_in_sur)\n",
    "e_out_sur = surprise_version.get_err(model,Y_test)\n",
    "print(surprise_version.get_err(model,Y_test))"
   ]
  },
  {
   "cell_type": "code",
   "execution_count": null,
   "metadata": {},
   "outputs": [],
   "source": [
    "multi_vis(U,V,name='Basic SVD')\n",
    "multi_vis(U_bias,V_bias,name='Bais SVD')\n",
    "multi_vis(model.pu,model.qi,name='Surprise SVD')"
   ]
  },
  {
   "cell_type": "code",
   "execution_count": null,
   "metadata": {},
   "outputs": [],
   "source": [
    "\n",
    "#TODO: use the actual values for the bias\n",
    "temp = np.array([[e_in_base,e_out_base],[e_in_bias,e_out_bias],[e_in_sur,e_out_sur]])\n",
    "# for i in range(3):\n",
    "#     plt.bar(x=np.arange(-1,1)+i*3,height=temp[i,:])\n",
    "for i in range(2):\n",
    "    plt.bar(x=np.arange(0,3)*3+i-0.5,height=temp[:,i])\n",
    "    plt.legend(['$E_{in}$','$E_{out}$'])\n",
    "    plt.title('Performance of Various SVD Techniques')\n",
    "    plt.ylabel('Error')\n",
    "    plt.xticks(np.arange(0,3)*3, ['Basic SVD', 'SVD With Bias', 'Surprise SVD'])\n",
    "\n",
    "name = 'performace'\n",
    "plt.savefig(f'{name}.png')\n",
    "plt.savefig(f'{name}.pdf')\n",
    "# temp = np.array([e_in_base,e_out_base,e_in_bias,e_out_bias,e_in_sur,e_out_sur])\n",
    "# plt.bar(x=np.arange(0,6),height=temp)\n",
    "# sns.catplot(,,temp)"
   ]
  }
 ],
 "metadata": {
  "kernelspec": {
   "display_name": "Python 3",
   "language": "python",
   "name": "python3"
  },
  "language_info": {
   "codemirror_mode": {
    "name": "ipython",
    "version": 3
   },
   "file_extension": ".py",
   "mimetype": "text/x-python",
   "name": "python",
   "nbconvert_exporter": "python",
   "pygments_lexer": "ipython3",
   "version": "3.7.3"
  }
 },
 "nbformat": 4,
 "nbformat_minor": 4
}
