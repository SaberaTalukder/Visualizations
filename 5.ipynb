{
 "cells": [
  {
   "cell_type": "code",
   "execution_count": 1,
   "metadata": {},
   "outputs": [],
   "source": [
    "import importlib\n",
    "import numpy as np\n",
    "import pandas as pd\n",
    "import matplotlib.pyplot as plt\n",
    "import seaborn as sns\n",
    "import surprise\n",
    "\n",
    "import hw5_version\n",
    "import hw5bias_version_g2\n",
    "import surprise_version\n",
    "importlib.reload(hw5_version)\n",
    "importlib.reload(hw5bias_version_g2)\n",
    "importlib.reload(surprise_version)\n",
    "\n",
    "%config InlineBackend.figure_format = 'retina'\n"
   ]
  },
  {
   "cell_type": "code",
   "execution_count": 2,
   "metadata": {},
   "outputs": [],
   "source": [
    "def visualize_V(U, V, labels=None, index=None, name='temp', save=True, title=None, hue=None,size=None):\n",
    "    A, s, B = np.linalg.svd(V.T)\n",
    "    U_proj = A[:,0:2].T@U.T\n",
    "    V_proj = A[:,0:2].T@V.T\n",
    "    plt.figure(figsize=(8,4))\n",
    "    \n",
    "    \n",
    "    if index is None:\n",
    "        plot = sns.scatterplot(V_proj[0,:],V_proj[1,:],hue=hue,size=size,legend=False)\n",
    "    else : \n",
    "        plot = sns.scatterplot(V_proj[0,index-1],V_proj[1,index-1],hue=hue[index],size=size[index],legend=False)\n",
    "        \n",
    "#     plot._legend.remove()\n",
    "        \n",
    "    limits = plt.ylim()\n",
    "    offset = (limits[1]-limits[0])*0.02\n",
    "    if not (labels is None):\n",
    "        for i, label in enumerate(labels):\n",
    "            txt = plot.text(V_proj[0,index[i]-1],V_proj[1,index[i]-1]+offset, label, horizontalalignment='center')\n",
    "            relative_location = (V_proj[0,index[i]-1]-plt.xlim()[0])/(plt.xlim()[1] - plt.xlim()[0]) \n",
    "            if relative_location < 0.2:\n",
    "                txt.set(horizontalalignment='left')\n",
    "            elif relative_location > 0.8:\n",
    "                txt.set(horizontalalignment='right')\n",
    "            \n",
    "    plt.title(title)\n",
    "    plt.xlabel('Principal Component 1')\n",
    "    plt.ylabel('Principal Component 2')\n",
    "    if save:\n",
    "        fig = plot.get_figure()\n",
    "        fig.savefig(f'{name}.png')\n",
    "        fig.savefig(f'{name}.pdf')\n",
    "    "
   ]
  },
  {
   "cell_type": "code",
   "execution_count": 3,
   "metadata": {},
   "outputs": [],
   "source": [
    "def multi_vis(U, V, name='temp',save=True,hue=None,size=None):\n",
    "    df = pd.read_csv('./data/movies3.txt',sep='\\t',header=None)\n",
    "    movies = df[1]\n",
    "    \n",
    "    # Ten Movies of our choice\n",
    "    choice = np.arange(1,11)\n",
    "    visualize_V(U,V,index=choice,name=f'{name}_choice',labels=movies[choice-1],save=save,title=f'Arbitrarily Chosen Movies with {name}',hue=hue,size=size)\n",
    "    \n",
    "    # Ten Most Popular\n",
    "#     popular = np.array([50, 258, 100, 181, 294, 286, 288, 1, 300, 121])\n",
    "    popular = np.array([50, 258, 100, 181, 293, 285, 287, 1, 299, 121])\n",
    "    visualize_V(U,V,index=popular,name=f'{name}_popular',labels=movies[popular-1],save=save,title=f'Most Popular Movies with {name}',hue=hue,size=size)\n",
    "    \n",
    "    # Ten Best\n",
    "#     best = np.array([1189, 1500, 814, 1536, 1293, 1599, 1653, 1467, 1122, 1201])\n",
    "    best = np.array([1180, 1487, 808, 1523, 1283, 1581, 1628, 1454, 1113, 1192])\n",
    "    visualize_V(U,V,index=best,name=f'{name}_best',labels=movies[best-1],save=save,title=f'\\'Best\\' Movies with {name}',hue=hue,size=size)\n",
    "    \n",
    "    # Ten from each of three genres\n",
    "#     animation = np.array([1, 71, 95, 99, 101, 102, 103, 114, 169, 189])\n",
    "    animation = np.array([1, 71, 95, 99, 101, 102, 103, 114, 169, 189])\n",
    "#     documentaries = np.array([32, 48, 75, 115, 119, 320, 360, 634, 644, 645])\n",
    "    documentaries = np.array([32, 48, 75, 115, 119, 318, 357, 630, 640, 641])\n",
    "#     sci_fi = np.array([7, 38, 39, 50, 62, 82, 84, 89, 96, 101])\n",
    "    sci_fi = np.array([7, 38, 39, 50, 62, 82, 84, 89, 96, 101])\n",
    "                       \n",
    "    # Genre 1\n",
    "    visualize_V(U,V,index=animation,name=f'{name}_animation',labels=movies[animation-1],save=save,title=f'Animation Movies with {name}',hue=hue,size=size)\n",
    "    # Genre 2\n",
    "    visualize_V(U,V,index=documentaries,name=f'{name}_documentary',labels=movies[documentaries-1],save=save,title=f'Documentary Movies with {name}',hue=hue,size=size)\n",
    "    # Genre 3\n",
    "    visualize_V(U,V,index=sci_fi,name=f'{name}_scifi',labels=movies[sci_fi-1],save=save,title=f'SciFi Movies with {name}',hue=hue,size=size)"
   ]
  },
  {
   "cell_type": "code",
   "execution_count": 4,
   "metadata": {},
   "outputs": [],
   "source": [
    "Y_train = np.loadtxt('./data/train3.txt').astype(int)\n",
    "Y_test = np.loadtxt('./data/test3.txt').astype(int)\n",
    "\n",
    "M = max(max(Y_train[:,0]), max(Y_test[:,0])).astype(int) # users\n",
    "N = max(max(Y_train[:,1]), max(Y_test[:,1])).astype(int) # movies\n",
    "\n",
    "\n",
    "K = 20\n",
    "eta = 0.03\n",
    "reg = 0\n",
    "reg = 0.1\n"
   ]
  },
  {
   "cell_type": "markdown",
   "metadata": {},
   "source": [
    "# Using the Homework 5 version of SVD "
   ]
  },
  {
   "cell_type": "code",
   "execution_count": 5,
   "metadata": {},
   "outputs": [],
   "source": [
    "U,V, e_in_base = hw5_version.train_model(M, N, K, eta, reg, Y_train)"
   ]
  },
  {
   "cell_type": "code",
   "execution_count": 6,
   "metadata": {},
   "outputs": [
    {
     "ename": "NameError",
     "evalue": "name 'hue' is not defined",
     "output_type": "error",
     "traceback": [
      "\u001b[0;31m---------------------------------------------------------------------------\u001b[0m",
      "\u001b[0;31mNameError\u001b[0m                                 Traceback (most recent call last)",
      "\u001b[0;32m<ipython-input-6-c06230fa69ed>\u001b[0m in \u001b[0;36m<module>\u001b[0;34m\u001b[0m\n\u001b[0;32m----> 1\u001b[0;31m \u001b[0mvisualize_V\u001b[0m\u001b[0;34m(\u001b[0m\u001b[0mU\u001b[0m\u001b[0;34m,\u001b[0m\u001b[0mV\u001b[0m\u001b[0;34m,\u001b[0m \u001b[0mhue\u001b[0m\u001b[0;34m=\u001b[0m\u001b[0mhue\u001b[0m\u001b[0;34m,\u001b[0m\u001b[0msize\u001b[0m\u001b[0;34m=\u001b[0m\u001b[0msize\u001b[0m\u001b[0;34m)\u001b[0m\u001b[0;34m\u001b[0m\u001b[0;34m\u001b[0m\u001b[0m\n\u001b[0m",
      "\u001b[0;31mNameError\u001b[0m: name 'hue' is not defined"
     ]
    }
   ],
   "source": [
    "visualize_V(U,V, hue=hue,size=size)"
   ]
  },
  {
   "cell_type": "code",
   "execution_count": null,
   "metadata": {},
   "outputs": [],
   "source": [
    "print(e_in_base)\n",
    "e_out_base = hw5_version.get_err(U,V,Y_test)\n",
    "print(hw5_version.get_err(U,V,Y_test))"
   ]
  },
  {
   "cell_type": "markdown",
   "metadata": {},
   "source": [
    "# Using the implementation with the additional bias terms"
   ]
  },
  {
   "cell_type": "code",
   "execution_count": null,
   "metadata": {},
   "outputs": [],
   "source": [
    "U_bias, V_bias, a_bias, b_bias, mu_bias, e_in_bias = hw5bias_version_g2.train_model(M, N, K, eta, reg, Y_train)"
   ]
  },
  {
   "cell_type": "code",
   "execution_count": null,
   "metadata": {},
   "outputs": [],
   "source": [
    "print(e_in_bias)\n",
    "e_out_bias = hw5bias_version_g2.get_err(U_bias,V_bias, Y_test, a_bias, b_bias, mu_bias)\n",
    "print(e_out_bias)"
   ]
  },
  {
   "cell_type": "code",
   "execution_count": null,
   "metadata": {},
   "outputs": [],
   "source": [
    "visualize_V(U_bias,V_bias)"
   ]
  },
  {
   "cell_type": "markdown",
   "metadata": {},
   "source": [
    "# Using the off the shelf implementation of SVD."
   ]
  },
  {
   "cell_type": "code",
   "execution_count": null,
   "metadata": {},
   "outputs": [],
   "source": [
    "model,  e_in_sur, trainset = surprise_version.train_model(M, N, K, eta, reg, Y_train)"
   ]
  },
  {
   "cell_type": "code",
   "execution_count": null,
   "metadata": {},
   "outputs": [],
   "source": [
    "visualize_V(model.pu,model.qi)"
   ]
  },
  {
   "cell_type": "code",
   "execution_count": null,
   "metadata": {},
   "outputs": [],
   "source": [
    "print(e_in_sur)\n",
    "e_out_sur = surprise_version.get_err(model,Y_test)\n",
    "print(surprise_version.get_err(model,Y_test))"
   ]
  },
  {
   "cell_type": "markdown",
   "metadata": {},
   "source": [
    "# Create the visualizations"
   ]
  },
  {
   "cell_type": "code",
   "execution_count": null,
   "metadata": {},
   "outputs": [],
   "source": [
    "hue = np.asarray(list(map(lambda movie_id : np.mean(Y_train[Y_train[:,1]==movie_id,2]), np.arange(N)+1)))\n",
    "size = np.asarray(list(map(lambda movie_id : np.sum(Y_train[:,1]==movie_id), np.arange(N)+1)))\n",
    "multi_vis(U,V,name='Basic Factorization',hue=hue,size=size)\n",
    "multi_vis(U_bias,V_bias,name='Factorization with Bias',hue=hue,size=size)\n",
    "multi_vis(model.pu,model.qi,name='Surprise Factorization',hue=hue[],size=size[])"
   ]
  },
  {
   "cell_type": "markdown",
   "metadata": {},
   "source": [
    "# Visualize all movies for each method"
   ]
  },
  {
   "cell_type": "code",
   "execution_count": null,
   "metadata": {},
   "outputs": [],
   "source": [
    "visualize_V(U,V,name='Basic Factorization',hue=hue,size=size)\n",
    "visualize_V(U_bias,V_bias,name='Factorization with Bias',hue=hue,size=size)\n",
    "print(model.qi.shape)\n",
    "print(hue.shape)\n",
    "visualize_V(model.pu,model.qi,name='Surprise Factorization',hue=hue,size=size)"
   ]
  },
  {
   "cell_type": "markdown",
   "metadata": {},
   "source": [
    "# Plot the performance"
   ]
  },
  {
   "cell_type": "code",
   "execution_count": null,
   "metadata": {},
   "outputs": [],
   "source": [
    "\n",
    "temp = np.array([[e_in_base,e_out_base],[e_in_bias,e_out_bias],[e_in_sur,e_out_sur]])\n",
    "for i in range(2):\n",
    "    plt.bar(x=np.arange(0,3)*3+i-0.5,height=temp[:,i])\n",
    "    plt.legend(['$E_{in}$','$E_{out}$'])\n",
    "    plt.title('Performance of Various Factorization Techniques')\n",
    "    plt.ylabel('Error')\n",
    "    plt.xticks(np.arange(0,3)*3, ['Basic Factorization', 'Factorization With Bias', 'Surprise Factorization'])\n",
    "    \n",
    "name = 'performace'\n",
    "plt.savefig(f'{name}.png')\n",
    "plt.savefig(f'{name}.pdf')"
   ]
  },
  {
   "cell_type": "code",
   "execution_count": null,
   "metadata": {},
   "outputs": [],
   "source": []
  }
 ],
 "metadata": {
  "kernelspec": {
   "display_name": "Python 3",
   "language": "python",
   "name": "python3"
  },
  "language_info": {
   "codemirror_mode": {
    "name": "ipython",
    "version": 3
   },
   "file_extension": ".py",
   "mimetype": "text/x-python",
   "name": "python",
   "nbconvert_exporter": "python",
   "pygments_lexer": "ipython3",
   "version": "3.7.3"
  }
 },
 "nbformat": 4,
 "nbformat_minor": 4
}
